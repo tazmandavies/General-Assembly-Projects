{
 "cells": [
  {
   "cell_type": "markdown",
   "metadata": {},
   "source": [
    "<img src=\"http://imgur.com/1ZcRyrc.png\" style=\"float: left; margin: 15px; height: 80px\">\n",
    "\n",
    "# Project 1\n",
    "\n",
    "### Building \"Pokemon Stay\"\n",
    "\n",
    "---\n",
    "You are an analyst at a \"scrappy\" online gaming company that specializes in remakes of last year's fads.\n",
    "\n",
    "Your boss, who runs the product development team, is convinced that Pokemon Go's fatal flaw was that you had to actually move around outside. She has design mock-ups for a new game called Pokemon Stay: in this version players still need to move, but just from website to website. Pokemon gyms are now popular online destinations, and catching Pokemon in the \"wild\" simply requires browsing the internet for hours in the comfort of your home.\n",
    "\n",
    "She wants you to program a prototype version of the game, and analyze the planned content to help the team calibrate the design."
   ]
  },
  {
   "cell_type": "markdown",
   "metadata": {},
   "source": [
    "#### Package imports\n",
    "\n",
    "The pprint package below is the only package imported here, and it's not even strictly required to do any of the project. Printing python variables and objects with pprint can help to format them in a \"prettier\" way."
   ]
  },
  {
   "cell_type": "code",
   "execution_count": 1,
   "metadata": {},
   "outputs": [],
   "source": [
    "from pprint import pprint"
   ]
  },
  {
   "cell_type": "markdown",
   "metadata": {},
   "source": [
    "<img src=\"http://imgur.com/l5NasQj.png\" style=\"float: left; margin: 25px 15px 0px 0px; height: 25px\">\n",
    "\n",
    "## 1. Defining a player\n",
    "\n",
    "---\n",
    "\n",
    "The player variables are:\n",
    "\n",
    "    player_id : id code unique to each player (integer)\n",
    "    player_name : entered name of the player (string)\n",
    "    time_played : number of time played the game in minutes (float)\n",
    "    player_pokemon: the player's captured pokemon (dictionary)\n",
    "    gyms_visited: ids of the gyms that a player has visited (list)\n",
    "    \n",
    "Create the components for a player object by defining each of these variables. The dictionary and list variables should just be defined as empty; you can use any (correctly typed) values for the others."
   ]
  },
  {
   "cell_type": "code",
   "execution_count": 2,
   "metadata": {},
   "outputs": [],
   "source": [
    "player_id = 1\n",
    "player_name = 'Dean'\n",
    "time_played = 0.0\n",
    "player_pokemon = {}\n",
    "gyms_visited = []"
   ]
  },
  {
   "cell_type": "markdown",
   "metadata": {},
   "source": [
    "<img src=\"http://imgur.com/l5NasQj.png\" style=\"float: left; margin: 25px 15px 0px 0px; height: 25px\">\n",
    "\n",
    "## 2. Defining \"gym\" locations\n",
    "\n",
    "---\n",
    "\n",
    "As the sole programmer, Pokemon Stay will have to start small. To begin, there will be 10 different gym location websites on the internet. The gym locations are:\n",
    "\n",
    "    1. 'reddit.com'\n",
    "    2. 'amazon.com'\n",
    "    3. 'twitter.com'\n",
    "    4. 'linkedin.com'\n",
    "    5. 'ebay.com'\n",
    "    6. 'netflix.com'\n",
    "    7. 'amazon.com'\n",
    "    8. 'stackoverflow.com'\n",
    "    9. 'github.com'\n",
    "    10. 'quora.com'\n",
    "\n",
    "1. Set up a list of all the gym locations. This will be a list of strings.\n",
    "2. Append two of these locations to your player's list of visited gyms.\n",
    "3. Print the list."
   ]
  },
  {
   "cell_type": "code",
   "execution_count": 3,
   "metadata": {},
   "outputs": [
    {
     "name": "stdout",
     "output_type": "stream",
     "text": [
      "['reddit.com', 'twitter.com']\n"
     ]
    }
   ],
   "source": [
    "gym_locations = ['reddit.com', 'amazon.com', 'twitter.com', 'linkedin.com', 'ebay.com', 'netflix.com', 'stackoverflow.com'\n",
    ", 'github.com', 'quora.com']\n",
    "gyms_visited.append('reddit.com')\n",
    "gyms_visited.append('twitter.com')\n",
    "\n",
    "print(gyms_visited)"
   ]
  },
  {
   "cell_type": "markdown",
   "metadata": {},
   "source": [
    "<img src=\"http://imgur.com/l5NasQj.png\" style=\"float: left; margin: 25px 15px 0px 0px; height: 25px\">\n",
    "\n",
    "## 3. Create a pokedex\n",
    "\n",
    "---\n",
    "\n",
    "We also need to create some pokemon to catch. Each pokemon will be defined by these variables:\n",
    "\n",
    "    pokemon_id : unique identifier for each pokemon (integer)\n",
    "    name : the name of the pokemon (string)\n",
    "    type : the category of pokemon (string)\n",
    "    hp : base hitpoints (integer)\n",
    "    attack : base attack (integer)\n",
    "    defense : base defense (integer)\n",
    "    special_attack : base special attack (integer)\n",
    "    special_defense : base sepecial defense (integer)\n",
    "    speed : base speed (integer)\n",
    "\n",
    "We are only going to create 3 different pokemon with these `pokemon_id` and `pokemon_name` values:\n",
    "\n",
    "    1 : 'charmander'\n",
    "    2 : 'squirtle'\n",
    "    3 : 'bulbasaur'\n",
    "\n",
    "Create a dictionary that will contain the pokemon. The keys of the dictionary will be the `pokemon_id` and the values will themselves dictionaries that contain the other pokemon variables. The structure of the pokedex dictionary will start like so:\n",
    "     \n",
    "     {\n",
    "         1: {\n",
    "                 'name':'charmander',\n",
    "                 'type':'fire',\n",
    "                 ...\n",
    "                 \n",
    "The `type` of charmander, squirtle, and bulbasaur should be `'fire'`, `'water'`, and `'poison'` respectively. The other values are up to you, make them anything you like!\n",
    "\n",
    "Print (or pretty print) the pokedex dictionary with the 3 pokemon."
   ]
  },
  {
   "cell_type": "code",
   "execution_count": 4,
   "metadata": {},
   "outputs": [
    {
     "name": "stdout",
     "output_type": "stream",
     "text": [
      "{1: {'name': 'charmander', 'type': 'fire', 'hp': 4, 'attack': 5, 'defense': 6, 'special_attack': 4, 'special_defense': 5, 'speed': 6}, 2: {'name': 'squirtle', 'type': 'water', 'hp': 6, 'attack': 4, 'defense': 5, 'special_attack': 6, 'special_defense': 4, 'speed': 5}, 3: {'name': 'bulbasaur', 'type': 'poison', 'hp': 5, 'attack': 6, 'defense': 4, 'special_attack': 5, 'special_defense': 6, 'speed': 4}}\n"
     ]
    }
   ],
   "source": [
    "pokemon_dictionary = {1:{'name':'charmander', \n",
    "                         'type':'fire', \n",
    "                         'hp': 4, \n",
    "                         'attack': 5, \n",
    "                         'defense': 6, \n",
    "                         'special_attack': 4, \n",
    "                         'special_defense': 5, \n",
    "                         'speed': 6}, \n",
    "                      2:{'name':'squirtle', \n",
    "                         'type':'water', \n",
    "                         'hp': 6, \n",
    "                         'attack': 4, \n",
    "                         'defense': 5, \n",
    "                         'special_attack': 6, \n",
    "                         'special_defense': 4, \n",
    "                         'speed': 5}, \n",
    "                      3:{'name':'bulbasaur', \n",
    "                         'type':'poison', \n",
    "                         'hp': 5, \n",
    "                         'attack': 6, \n",
    "                         'defense': 4, \n",
    "                         'special_attack': 5, \n",
    "                         'special_defense': 6, \n",
    "                         'speed': 4}}\n",
    "print(pokemon_dictionary)"
   ]
  },
  {
   "cell_type": "markdown",
   "metadata": {},
   "source": [
    "<img src=\"http://imgur.com/l5NasQj.png\" style=\"float: left; margin: 25px 15px 0px 0px; height: 25px\">\n",
    "\n",
    "## 4. Create a data structure for players\n",
    "\n",
    "---\n",
    "\n",
    "### 4.1 \n",
    "\n",
    "In order to maintain a database of multiple players, create a dictionary that keeps track of players indexed by `player_id`. \n",
    "\n",
    "The keys of the dictionary will be `player_id` and values will be dictionaries containing each player's variables (from question 1). \n",
    "\n",
    "Construct the `players` dictionary and insert the player that you defined in question 1, then print `players`."
   ]
  },
  {
   "cell_type": "code",
   "execution_count": 5,
   "metadata": {},
   "outputs": [
    {
     "name": "stdout",
     "output_type": "stream",
     "text": [
      "{1: {'player_name': 'Dean', 'time_played': 0.0, 'player_pokemon': {}, 'gyms_visited': {'reddit.com', 'twitter.com'}}}\n"
     ]
    }
   ],
   "source": [
    "players = {}\n",
    "players[1] = {'player_name': 'Dean', 'time_played':0.0, 'player_pokemon': {}, 'gyms_visited':{'reddit.com', 'twitter.com'}}\n",
    "print(players)\n",
    "#MAKE MORE READABLE, LIKE THE PREVIOUS QUESTION"
   ]
  },
  {
   "cell_type": "markdown",
   "metadata": {},
   "source": [
    "---\n",
    "\n",
    "### 4.2\n",
    "\n",
    "Create a new player with `player_id = 2` in the `players` dictionary. Leave the `'player_pokemon'` dictionary empty. Append `'alcatraz'` and `'pacific_beach'` to the `'gyms_visited'` list for player 2.\n",
    "\n",
    "The `'player_name'` and `'time_played'` values are up to you, but must be a string and float, respectively.\n",
    "\n",
    "Remember, the player_id is the key for the player in the players dictionary.\n",
    "\n",
    "Print the `players` dictionary with the new player inserted."
   ]
  },
  {
   "cell_type": "code",
   "execution_count": 6,
   "metadata": {},
   "outputs": [
    {
     "name": "stdout",
     "output_type": "stream",
     "text": [
      "{1: {'gyms_visited': {'reddit.com', 'twitter.com'},\n",
      "     'player_name': 'Dean',\n",
      "     'player_pokemon': {},\n",
      "     'time_played': 0.0},\n",
      " 2: {'gyms_visited': ['alcatraz', 'pacific_beach'],\n",
      "     'player_name': 'Tom',\n",
      "     'player_pokemon': {},\n",
      "     'time_played': 10.0}}\n"
     ]
    }
   ],
   "source": [
    "players[2] = {'player_name': 'Tom', 'time_played':10.0, 'player_pokemon': {}, 'gyms_visited':['alcatraz', 'pacific_beach']}\n",
    "gym_locations.append('alcatraz')\n",
    "gym_locations.append('pacific_beach')\n",
    "pprint(players)\n",
    "#MAKE MORE READABLE, LIKE THE PREVIOUS QUESTION\n",
    "#PRETTY PRINT"
   ]
  },
  {
   "cell_type": "markdown",
   "metadata": {},
   "source": [
    "<img src=\"http://imgur.com/l5NasQj.png\" style=\"float: left; margin: 25px 15px 0px 0px; height: 25px\">\n",
    "\n",
    "## 5. Add captured pokemon for each player\n",
    "\n",
    "---\n",
    "\n",
    "The `'player_pokemon'` keyed dictionaries for each player keep track of which of the pokemon each player has.\n",
    "\n",
    "The keys of the `'player_pokemon'` dictionaries are the pokemon ids that correspond to the ids in the `pokedex` dictionary you created earlier. The values are integers specifying the stats for the pokemon.\n",
    "\n",
    "Give player 1 a squirtle. Give player 2 charmander and a bulbasaur.\n",
    "\n",
    "Print the players dictionary after adding the pokemon for each player.\n"
   ]
  },
  {
   "cell_type": "code",
   "execution_count": 7,
   "metadata": {},
   "outputs": [
    {
     "name": "stdout",
     "output_type": "stream",
     "text": [
      "{1: {'gyms_visited': {'reddit.com', 'twitter.com'},\n",
      "     'player_name': 'Dean',\n",
      "     'player_pokemon': {2: {'attack': 4,\n",
      "                            'defense': 5,\n",
      "                            'hp': 6,\n",
      "                            'name': 'squirtle',\n",
      "                            'special_attack': 6,\n",
      "                            'special_defense': 4,\n",
      "                            'speed': 5,\n",
      "                            'type': 'water'}},\n",
      "     'time_played': 0.0},\n",
      " 2: {'gyms_visited': ['alcatraz', 'pacific_beach'],\n",
      "     'player_name': 'Tom',\n",
      "     'player_pokemon': {1: {'attack': 5,\n",
      "                            'defense': 6,\n",
      "                            'hp': 4,\n",
      "                            'name': 'charmander',\n",
      "                            'special_attack': 4,\n",
      "                            'special_defense': 5,\n",
      "                            'speed': 6,\n",
      "                            'type': 'fire'},\n",
      "                        3: {'attack': 6,\n",
      "                            'defense': 4,\n",
      "                            'hp': 5,\n",
      "                            'name': 'bulbasaur',\n",
      "                            'special_attack': 5,\n",
      "                            'special_defense': 6,\n",
      "                            'speed': 4,\n",
      "                            'type': 'poison'}},\n",
      "     'time_played': 10.0}}\n"
     ]
    }
   ],
   "source": [
    "players[1]['player_pokemon'] = { 2: {'attack': 4,\n",
    "     'defense': 5,\n",
    "     'hp': 6,\n",
    "     'name': 'squirtle',\n",
    "     'special_attack': 6,\n",
    "     'special_defense': 4,\n",
    "     'speed': 5,\n",
    "     'type': 'water'}}\n",
    "players[2]['player_pokemon'] = {1: {'attack': 5,\n",
    "     'defense': 6,\n",
    "     'hp': 4,\n",
    "     'name': 'charmander',\n",
    "     'special_attack': 4,\n",
    "     'special_defense': 5,\n",
    "     'speed': 6,\n",
    "     'type': 'fire'},  3: {'attack': 6,\n",
    "     'defense': 4,\n",
    "     'hp': 5,\n",
    "     'name': 'bulbasaur',\n",
    "     'special_attack': 5,\n",
    "     'special_defense': 6,\n",
    "     'speed': 4,\n",
    "     'type': 'poison'}}\n",
    "pprint(players)"
   ]
  },
  {
   "cell_type": "markdown",
   "metadata": {},
   "source": [
    "\n",
    "\n",
    "## 6. What gyms have players visited?\n",
    "\n",
    "---\n",
    "<img src=\"http://imgur.com/l5NasQj.png\" style=\"float: left; margin: 25px 15px 0px 0px; height: 25px\">\n",
    "### 6.1\n",
    "\n",
    "Write a for-loop that:\n",
    "\n",
    "1. Iterates through the `pokemon_gyms` list of gym locations you defined before.\n",
    "2. For each gym, iterate through each player in the `players` dictionary with a second, internal for-loop.\n",
    "3. If the player has visited the gym, print out \"[player] has visited [gym location].\", filling in [player] and [gym location] with the current player's name and current gym location."
   ]
  },
  {
   "cell_type": "code",
   "execution_count": 8,
   "metadata": {},
   "outputs": [
    {
     "name": "stdout",
     "output_type": "stream",
     "text": [
      "Dean has visited reddit.com.\n",
      "Dean has visited twitter.com.\n",
      "Tom has visited alcatraz.\n",
      "Tom has visited pacific_beach.\n"
     ]
    }
   ],
   "source": [
    "for gym_location in gym_locations:\n",
    "    for player in players:\n",
    "        if gym_location in players[player]['gyms_visited']:\n",
    "            print(players[player]['player_name'] + \" has visited \" + gym_location + \".\")"
   ]
  },
  {
   "cell_type": "markdown",
   "metadata": {},
   "source": [
    "<img src=\"http://imgur.com/xDpSobf.png\" style=\"float: left; margin: 25px 15px 0px 0px; height: 25px\">\n",
    "### 6.2\n",
    "\n",
    "How many times did that loop run? If you have N gyms and also N players, how many times would it run as a function of N?\n",
    "\n",
    "Can you think of a more efficient way to accomplish the same thing? \n",
    "\n",
    "(You can write your answer as Markdown text.)"
   ]
  },
  {
   "cell_type": "markdown",
   "metadata": {
    "collapsed": true
   },
   "source": [
    "The loop ran 24 times (The outer loop has 12 options and the inner loop has 2 options). \n",
    "\n",
    "The loop would run N^2 times.\n",
    "\n",
    "I can't think of a more efficient way to accomplish the same thing."
   ]
  },
  {
   "cell_type": "markdown",
   "metadata": {},
   "source": [
    "<img src=\"http://imgur.com/l5NasQj.png\" style=\"float: left; margin: 25px 15px 0px 0px; height: 25px\">\n",
    "\n",
    "## 7. Calculate player \"power\".\n",
    "\n",
    "---\n",
    "\n",
    "Define a function that will calculate a player's \"power\". Player power is defined as the sum of the base statistics all of their pokemon.\n",
    "\n",
    "Your function will:\n",
    "\n",
    "1. Accept the `players` dictionary, `pokedex` dictionary, and a player_id as arguments.\n",
    "2. For the specified player_id, look up that player's pokemon and their level(s).\n",
    "3. Find and aggregate the attack and defense values for each of the player's pokemon from the `pokedex` dictionary.\n",
    "4. Print \"[player name]'s power is [player power].\", where the player power is the sum of the base statistics for all of their pokemon.\n",
    "5. Return the player's power value.\n",
    "\n",
    "Print out the pokemon power for each of your players."
   ]
  },
  {
   "cell_type": "code",
   "execution_count": 9,
   "metadata": {},
   "outputs": [
    {
     "name": "stdout",
     "output_type": "stream",
     "text": [
      "Dean's' power is 30.\n",
      "Tom's' power is 60.\n"
     ]
    },
    {
     "data": {
      "text/plain": [
       "{1: {'attack': 5,\n",
       "  'defense': 6,\n",
       "  'hp': 4,\n",
       "  'name': 'charmander',\n",
       "  'special_attack': 4,\n",
       "  'special_defense': 5,\n",
       "  'speed': 6,\n",
       "  'type': 'fire'},\n",
       " 3: {'attack': 6,\n",
       "  'defense': 4,\n",
       "  'hp': 5,\n",
       "  'name': 'bulbasaur',\n",
       "  'special_attack': 5,\n",
       "  'special_defense': 6,\n",
       "  'speed': 4,\n",
       "  'type': 'poison'}}"
      ]
     },
     "execution_count": 9,
     "metadata": {},
     "output_type": "execute_result"
    }
   ],
   "source": [
    "def players_power(player_id):\n",
    "    player_power = 0\n",
    "    for pokemon in players[player_id]['player_pokemon']: \n",
    "        player_power += players[player_id]['player_pokemon'][pokemon]['attack'] + players[player_id]['player_pokemon'][pokemon]['defense'] + players[player_id]['player_pokemon'][pokemon]['hp'] + players[player_id]['player_pokemon'][pokemon]['special_attack'] +players[player_id]['player_pokemon'][pokemon]['special_defense'] + players[player_id]['player_pokemon'][pokemon]['speed']\n",
    "    return print(players[player_id]['player_name'] + \"'s' power is \" + str(player_power) + \".\")\n",
    "\n",
    "players_power(1)\n",
    "players_power(2)\n",
    "\n",
    "players[2]['player_pokemon']"
   ]
  },
  {
   "cell_type": "markdown",
   "metadata": {},
   "source": [
    "Here, players[player_id]['player_pokemon'] is a nested dictionary. For example, for player_id = 2 we get:\n",
    "\n",
    "{1: {'attack': 5,\n",
    "  'defense': 6,\n",
    "  'hp': 4,\n",
    "  'name': 'charmander',\n",
    "  'special_attack': 4,\n",
    "  'special_defense': 5,\n",
    "  'speed': 6,\n",
    "  'type': 'fire'},\n",
    " 3: {'attack': 6,\n",
    "  'defense': 4,\n",
    "  'hp': 5,\n",
    "  'name': 'bulbasaur',\n",
    "  'special_attack': 5,\n",
    "  'special_defense': 6,\n",
    "  'speed': 4,\n",
    "  'type': 'poison'}}\n",
    "\n",
    "Then, we iterate through all the keys, and come to another dictionary. Then, in this dictionary, we add the numeric values to the player_power."
   ]
  },
  {
   "cell_type": "markdown",
   "metadata": {
    "collapsed": true
   },
   "source": [
    "<img src=\"http://imgur.com/l5NasQj.png\" style=\"float: left; margin: 25px 15px 0px 0px; height: 25px\">\n",
    "\n",
    "## 8. Load a pokedex file containing all the pokemon\n",
    "\n",
    "---\n",
    "\n",
    "### 8.1\n",
    "\n",
    "While you were putting together the prototype code, your colleagues were preparing a dataset of Pokemon and their attributes. (This was a rush job, so they may have picked some crazy values for some...)\n",
    "\n",
    "The code below loads information from a comma separated value (csv) file. You need to parse this string into a more useable format. The format of the string is:\n",
    "\n",
    "- Rows are separated by newline characters: \\n\n",
    "- Columns are separated by commas: ,\n",
    "- All cells in the csv are double quoted. Ex: \"PokedexNumber\" is the first cell of the first row.\n",
    "\n",
    "\n",
    "Using for-loops, create a list of lists where each list within the overall list is a row of the csv/matrix, and each element in that list is a cell in that row. Additional criteria:\n",
    "\n",
    "1. Quotes are removed from each cell item.\n",
    "2. Numeric column values are converted to floats.\n",
    "3. There are some cells that are empty and have no information. For these cells put a -1 value in place.\n",
    "\n",
    "Your end result is effectively a matrix. Each list in the outer list is a row, and the *j*th elements of list together form the *j*th column, which represents a data attribute. The first three lists in your pokedex list should look like this:\n",
    "\n",
    "    ['PokedexNumber', 'Name', 'Type', 'Total', 'HP', 'Attack', 'Defense', 'SpecialAttack', 'SpecialDefense', 'Speed']\n",
    "    [1.0, 'Bulbasaur', 'GrassPoison', 318.0, 45.0, 49.0, 49.0, 65.0, 65.0, 45.0]\n",
    "    [2.0, 'Ivysaur', 'GrassPoison', 405.0, 60.0, 62.0, 63.0, 80.0, 80.0, 60.0]"
   ]
  },
  {
   "cell_type": "markdown",
   "metadata": {},
   "source": [
    "First, we convert the csv file to a dataframe using pandas. Then, we check for data consistency using .info()"
   ]
  },
  {
   "cell_type": "code",
   "execution_count": 10,
   "metadata": {},
   "outputs": [
    {
     "name": "stdout",
     "output_type": "stream",
     "text": [
      "<class 'pandas.core.frame.DataFrame'>\n",
      "RangeIndex: 800 entries, 0 to 799\n",
      "Data columns (total 10 columns):\n",
      "PokedexNumber     800 non-null int64\n",
      "Name              800 non-null object\n",
      "Type              800 non-null object\n",
      "Total             800 non-null int64\n",
      "HP                800 non-null int64\n",
      "Attack            800 non-null int64\n",
      "Defense           800 non-null int64\n",
      "SpecialAttack     800 non-null int64\n",
      "SpecialDefense    800 non-null int64\n",
      "Speed             800 non-null int64\n",
      "dtypes: int64(8), object(2)\n",
      "memory usage: 62.6+ KB\n"
     ]
    }
   ],
   "source": [
    "import pandas as pd\n",
    "df = pd.read_csv('pokedex_basic.csv')\n",
    "df.info()"
   ]
  },
  {
   "cell_type": "markdown",
   "metadata": {},
   "source": [
    "Here, we can see the numerical columns are of type 'int64'. This needs to be changed to 'float'."
   ]
  },
  {
   "cell_type": "markdown",
   "metadata": {},
   "source": [
    "We can create a for loop that that converts all of the numerical column values into floats."
   ]
  },
  {
   "cell_type": "code",
   "execution_count": 30,
   "metadata": {},
   "outputs": [
    {
     "data": {
      "text/html": [
       "<div>\n",
       "<style scoped>\n",
       "    .dataframe tbody tr th:only-of-type {\n",
       "        vertical-align: middle;\n",
       "    }\n",
       "\n",
       "    .dataframe tbody tr th {\n",
       "        vertical-align: top;\n",
       "    }\n",
       "\n",
       "    .dataframe thead th {\n",
       "        text-align: right;\n",
       "    }\n",
       "</style>\n",
       "<table border=\"1\" class=\"dataframe\">\n",
       "  <thead>\n",
       "    <tr style=\"text-align: right;\">\n",
       "      <th></th>\n",
       "      <th>PokedexNumber</th>\n",
       "      <th>Name</th>\n",
       "      <th>Type</th>\n",
       "      <th>Total</th>\n",
       "      <th>HP</th>\n",
       "      <th>Attack</th>\n",
       "      <th>Defense</th>\n",
       "      <th>SpecialAttack</th>\n",
       "      <th>SpecialDefense</th>\n",
       "      <th>Speed</th>\n",
       "    </tr>\n",
       "  </thead>\n",
       "  <tbody>\n",
       "    <tr>\n",
       "      <th>0</th>\n",
       "      <td>1.0</td>\n",
       "      <td>Bulbasaur</td>\n",
       "      <td>GrassPoison</td>\n",
       "      <td>318.0</td>\n",
       "      <td>45.0</td>\n",
       "      <td>49.0</td>\n",
       "      <td>49.0</td>\n",
       "      <td>65.0</td>\n",
       "      <td>65.0</td>\n",
       "      <td>45.0</td>\n",
       "    </tr>\n",
       "    <tr>\n",
       "      <th>1</th>\n",
       "      <td>2.0</td>\n",
       "      <td>Ivysaur</td>\n",
       "      <td>GrassPoison</td>\n",
       "      <td>405.0</td>\n",
       "      <td>60.0</td>\n",
       "      <td>62.0</td>\n",
       "      <td>63.0</td>\n",
       "      <td>80.0</td>\n",
       "      <td>80.0</td>\n",
       "      <td>60.0</td>\n",
       "    </tr>\n",
       "    <tr>\n",
       "      <th>2</th>\n",
       "      <td>3.0</td>\n",
       "      <td>Venusaur</td>\n",
       "      <td>GrassPoison</td>\n",
       "      <td>525.0</td>\n",
       "      <td>80.0</td>\n",
       "      <td>82.0</td>\n",
       "      <td>83.0</td>\n",
       "      <td>100.0</td>\n",
       "      <td>100.0</td>\n",
       "      <td>80.0</td>\n",
       "    </tr>\n",
       "    <tr>\n",
       "      <th>3</th>\n",
       "      <td>3.0</td>\n",
       "      <td>VenusaurMega Venusaur</td>\n",
       "      <td>GrassPoison</td>\n",
       "      <td>625.0</td>\n",
       "      <td>80.0</td>\n",
       "      <td>100.0</td>\n",
       "      <td>123.0</td>\n",
       "      <td>122.0</td>\n",
       "      <td>120.0</td>\n",
       "      <td>80.0</td>\n",
       "    </tr>\n",
       "    <tr>\n",
       "      <th>4</th>\n",
       "      <td>4.0</td>\n",
       "      <td>Charmander</td>\n",
       "      <td>Fire</td>\n",
       "      <td>309.0</td>\n",
       "      <td>39.0</td>\n",
       "      <td>52.0</td>\n",
       "      <td>43.0</td>\n",
       "      <td>60.0</td>\n",
       "      <td>50.0</td>\n",
       "      <td>65.0</td>\n",
       "    </tr>\n",
       "  </tbody>\n",
       "</table>\n",
       "</div>"
      ],
      "text/plain": [
       "   PokedexNumber                   Name         Type  Total    HP  Attack  \\\n",
       "0            1.0              Bulbasaur  GrassPoison  318.0  45.0    49.0   \n",
       "1            2.0                Ivysaur  GrassPoison  405.0  60.0    62.0   \n",
       "2            3.0               Venusaur  GrassPoison  525.0  80.0    82.0   \n",
       "3            3.0  VenusaurMega Venusaur  GrassPoison  625.0  80.0   100.0   \n",
       "4            4.0             Charmander         Fire  309.0  39.0    52.0   \n",
       "\n",
       "   Defense  SpecialAttack  SpecialDefense  Speed  \n",
       "0     49.0           65.0            65.0   45.0  \n",
       "1     63.0           80.0            80.0   60.0  \n",
       "2     83.0          100.0           100.0   80.0  \n",
       "3    123.0          122.0           120.0   80.0  \n",
       "4     43.0           60.0            50.0   65.0  "
      ]
     },
     "execution_count": 30,
     "metadata": {},
     "output_type": "execute_result"
    }
   ],
   "source": [
    "for column in ['PokedexNumber', 'Total', 'HP', 'Attack', 'Defense', 'SpecialAttack','SpecialDefense','Speed']:\n",
    "    df[column] = df[column].astype(float)\n",
    "df.head()"
   ]
  },
  {
   "cell_type": "markdown",
   "metadata": {},
   "source": [
    "Next, we notice that there are multiple entries for the same PokedexNumber. This is potentially problematic. "
   ]
  },
  {
   "cell_type": "markdown",
   "metadata": {},
   "source": [
    "Next, we convert out dataframe into a list of lists."
   ]
  },
  {
   "cell_type": "code",
   "execution_count": 12,
   "metadata": {
    "scrolled": true
   },
   "outputs": [],
   "source": [
    "pokedex_list_of_lists = []\n",
    "pokedex_list_of_lists.append(list(df.columns)) \n",
    "#pokedex_list_of_lists = ['PokedexNumber','Name','Type','Total','HP','Attack','Defense','SpecialAttack','SpecialDefense','Speed']\n",
    "\n",
    "looped_pokedex_numbers = [] #this list will help us remove the duplicates later on\n",
    "\n",
    "for i in range(0, df.shape[0]):   \n",
    "    if df.loc[i]['PokedexNumber'] not in looped_pokedex_numbers:\n",
    "        looped_pokedex_numbers.append(df.loc[i]['PokedexNumber'])\n",
    "        pokedex_list_of_lists.append(list(df.loc[i]))    "
   ]
  },
  {
   "cell_type": "markdown",
   "metadata": {},
   "source": [
    "<img src=\"http://imgur.com/xDpSobf.png\" style=\"float: left; margin: 25px 15px 0px 0px; height: 25px\">\n",
    "\n",
    "### 8.2 Parse the raw pokedex with list comprehensions\n",
    "\n",
    "---\n",
    "\n",
    "Perform the same parsing as above, but **using only a single list comprehension** instead of for loops. You may have nested list comprehensions within the main list comprehension! The output should be exactly the same."
   ]
  },
  {
   "cell_type": "code",
   "execution_count": 33,
   "metadata": {},
   "outputs": [],
   "source": [
    "#[df.loc[i].tolist() for i in range(0, df.shape[0])] \n",
    "#note: I couldn't work out how to delete the duplicates here."
   ]
  },
  {
   "cell_type": "markdown",
   "metadata": {},
   "source": [
    "<img src=\"http://imgur.com/l5NasQj.png\" style=\"float: left; margin: 25px 15px 0px 0px; height: 25px\">\n",
    "\n",
    "## 9. Write a function to generate the full pokedex\n",
    "\n",
    "---\n",
    "\n",
    "Write a function that recreates the pokedex you made before, but with the data read in from the full pokemon file. The `PokedexNumber` should be used as the `pokemon_id` key values for the dictionary of pokemon.\n",
    "\n",
    "Your function should:\n",
    "\n",
    "1. Take the parsed pokedex information you created above as an argument.\n",
    "2. Return a dictionary in the same format as your original pokedex you created before containing the information from the parsed full pokedex file.\n",
    "\n",
    "To test the function, print out the pokemon with id = 100."
   ]
  },
  {
   "cell_type": "markdown",
   "metadata": {
    "scrolled": true
   },
   "source": [
    "First, we need to convert our list of lists into a dictionary of \n",
    "dictionaries. The keys of the outer dictionary represent the pokemon \n",
    "ids, and the keys of the inner dictionary represent the pokemon's stats.\n",
    "(Note: I didnt't incorporate a function for this question)"
   ]
  },
  {
   "cell_type": "code",
   "execution_count": 31,
   "metadata": {},
   "outputs": [],
   "source": [
    "pokedex_dictionary = {}\n",
    "\n",
    "headings = pokedex_list_of_lists[0][1:] \n",
    "#headings =['Name','Type','Total','HP','Attack','Defense','SpecialAttack','SpecialDefense','Speed']\n",
    "data = pokedex_list_of_lists[1:] \n",
    "#data = [[1, 'Bulbasaur', 'GrassPoison', 318, 45, 49, 49, 65, 65, 45],\n",
    "#       [2, 'Ivysaur', 'GrassPoison', 405, 60, 62, 63, 80, 80, 60],\n",
    "#        [3, 'Venusaur', 'GrassPoison', 525, 80, 82, 83, 100, 100, 80],\n",
    "#            .....                                                    ]\n",
    "for line in data:\n",
    "    pokedex_dictionary[line[0]] = dict(zip(headings,line[1:]))\n",
    "    "
   ]
  },
  {
   "cell_type": "code",
   "execution_count": 16,
   "metadata": {},
   "outputs": [
    {
     "data": {
      "text/plain": [
       "{'Name': 'Voltorb',\n",
       " 'Type': 'Electric',\n",
       " 'Total': 330.0,\n",
       " 'HP': 40.0,\n",
       " 'Attack': 30.0,\n",
       " 'Defense': 50.0,\n",
       " 'SpecialAttack': 55.0,\n",
       " 'SpecialDefense': 55.0,\n",
       " 'Speed': 100.0}"
      ]
     },
     "execution_count": 16,
     "metadata": {},
     "output_type": "execute_result"
    }
   ],
   "source": [
    "pokedex_dictionary[100]"
   ]
  },
  {
   "cell_type": "markdown",
   "metadata": {},
   "source": [
    "<img src=\"http://i.imgur.com/GCAf1UX.png\" style=\"float: left; margin: 25px 15px 0px 0px; height: 25px\">\n",
    "\n",
    "## 10. Write a function to generate a \"filtered\" pokedex\n",
    "---\n",
    "Your function should:\n",
    "1. Take the parsed pokedex information you created above as an argument.\n",
    "1. Take a dictionary as a parameter with keys matching the features of the Pokedex, filtering by exact match for string type values, and/or filter continuous variables specified value that is greater than or equal to the dictionary key parameter.\n",
    "1. Return multiple elements from the Pokedex\n",
    "\n",
    "Example:\n",
    "\n",
    "```python\n",
    "\n",
    "# Only filter based on parameters passed\n",
    "filter_options = {\n",
    "    'Attack':   25,\n",
    "    'Defense':  30,\n",
    "    'Type':     'Electric'\n",
    "}\n",
    "\n",
    "# Return records with attack >= 24, defense >= 30, and type == \"Electric\"\n",
    "# Also anticipate that other paramters can also be passed such as \"SpecialAttack\", \"Speed\", etc.\n",
    "filtered_pokedex(pokedex_data, filter=filter_options)\n",
    "\n",
    "# Example output:\n",
    "# [{'Attack': 30.0,\n",
    "#  'Defense': 50.0,\n",
    "#  'HP': 40.0,\n",
    "#  'Name': 'Voltorb',\n",
    "#  'SpecialAttack': 55.0,\n",
    "#  'SpecialDefense': 55.0,\n",
    "#  'Speed': 100.0,\n",
    "#  'Total': 330.0,\n",
    "#  'Type': 'Electric'},\n",
    "#  {'Attack': 30.0,\n",
    "#  'Defense': 33.0,\n",
    "#  'HP': 32.0,\n",
    "#  'Name': 'Pikachu',\n",
    "#  'SpecialAttack': 55.0,\n",
    "#  'SpecialDefense': 55.0,\n",
    "#  'Speed': 100.0,\n",
    "#  'Total': 330.0,\n",
    "#  'Type': 'Electric'},\n",
    "#  ... etc\n",
    "#  ]\n",
    "\n",
    "```\n",
    "\n"
   ]
  },
  {
   "cell_type": "code",
   "execution_count": null,
   "metadata": {},
   "outputs": [],
   "source": []
  },
  {
   "cell_type": "code",
   "execution_count": null,
   "metadata": {},
   "outputs": [],
   "source": []
  },
  {
   "cell_type": "markdown",
   "metadata": {
    "collapsed": true
   },
   "source": [
    "\n",
    "## 9. Descriptive statistics on the prototype pokedex\n",
    "\n",
    "<img src=\"http://imgur.com/l5NasQj.png\" style=\"float: left; margin: 25px 15px 0px 0px; height: 25px\">\n",
    "### 9.1\n",
    "\n",
    "What is the population mean and standard deviation of the \"Total\" attribute for all characters in the Pokedex?\n",
    "\n"
   ]
  },
  {
   "cell_type": "code",
   "execution_count": 17,
   "metadata": {},
   "outputs": [],
   "source": [
    "import numpy as np\n",
    "list_of_totals = [] \n",
    "for key in list(pokedex_dictionary.keys()):\n",
    "    list_of_totals.append(pokedex_dictionary[key]['Total'])\n",
    "mean_of_totals = np.mean(list_of_totals)\n",
    "std_of_totals = np.std(list_of_totals)"
   ]
  },
  {
   "cell_type": "code",
   "execution_count": 18,
   "metadata": {},
   "outputs": [
    {
     "name": "stdout",
     "output_type": "stream",
     "text": [
      "417\n",
      "109\n"
     ]
    }
   ],
   "source": [
    "print(int(mean_of_totals))\n",
    "print(int(std_of_totals))"
   ]
  },
  {
   "cell_type": "markdown",
   "metadata": {},
   "source": [
    "<img src=\"http://imgur.com/l5NasQj.png\" style=\"float: left; margin: 25px 15px 0px 0px; height: 25px\">\n",
    "### 9.2\n",
    "\n",
    "The game is no fun if the characters are wildly unbalanced! Are any characters \"overpowered\", which we'll define as having a \"Total\" more than three standard deviations from the population mean?"
   ]
  },
  {
   "cell_type": "markdown",
   "metadata": {},
   "source": [
    "Disregarding the duplicates:"
   ]
  },
  {
   "cell_type": "code",
   "execution_count": 19,
   "metadata": {},
   "outputs": [],
   "source": [
    "overpowered_point = mean_of_totals + 3*std_of_totals\n",
    "for key in list(pokedex_dictionary.keys()):\n",
    "    if pokedex_dictionary[key]['Total'] > overpowered_point:\n",
    "        print (pokedex_dictionary[key]['Name'])"
   ]
  },
  {
   "cell_type": "markdown",
   "metadata": {},
   "source": [
    "Considering the duplicates:"
   ]
  },
  {
   "cell_type": "code",
   "execution_count": 20,
   "metadata": {},
   "outputs": [
    {
     "name": "stdout",
     "output_type": "stream",
     "text": [
      "MewtwoMega Mewtwo X\n"
     ]
    }
   ],
   "source": [
    "for i in range(1, df.shape[0]): ##df.shape[0] tells us how many rows are in the pandas dataframe \n",
    "    if list(df.iloc[i])[3] > np.mean(df.Total) + 3*np.std(df.Total):\n",
    "        print (df.iloc[i]['Name'])"
   ]
  },
  {
   "cell_type": "markdown",
   "metadata": {},
   "source": [
    "<img src=\"http://imgur.com/xDpSobf.png\" style=\"float: left; margin: 25px 15px 0px 0px; height: 25px\">\n",
    "\n",
    "## 10. Calibrate the frequency of Pokemon\n",
    "\n",
    "The design team wants you to make the powerful Pokemon rare, and the weaklings more common. How would you set the probability $p_i$ of finding Pokemon *i* each time a player visits a gym?\n",
    "\n",
    "Write a function that takes in a Pokedex number and returns a value $p_i$ for that character.\n",
    "\n",
    "Hint: there are many ways you could do this. What do _you_ think makes sense? Start with simplifying assumptions: for example, you could assume that the probabilities of encountering any two Pokemon on one visit to a gym are independent of each other."
   ]
  },
  {
   "cell_type": "markdown",
   "metadata": {},
   "source": [
    "Note: here, I assumed that the game would generate one, and only one, pokemon. \n",
    "\n",
    "I considered two probability models. \n",
    "The first model divided the pokemon into four equal groups based on their 'Total' attribute."
   ]
  },
  {
   "cell_type": "code",
   "execution_count": 32,
   "metadata": {},
   "outputs": [],
   "source": [
    "#Using the list_of_totals form earlier, calculate the 5-point summary\n",
    "minimum = np.min(list_of_totals) \n",
    "lower_quartile = np.percentile(list_of_totals, 25)\n",
    "median = np.median(list_of_totals)\n",
    "upper_quartile = np.percentile(list_of_totals, 75)\n",
    "maximum = np.max(list_of_totals)\n",
    "#the five-point summary is: 180, 320, 424, 499, 729\n",
    "\n",
    "#next, I created empty lists for the groups to come. \n",
    "group_1 = [] #the weakest pokemon \n",
    "group_2 = []\n",
    "group_3 = []\n",
    "group_4 = [] #the strongest pokemon\n",
    "    \n",
    "for key in list(pokedex_dictionary.keys()): #Then, I appended them into groups depending on how high their 'Total' attribute was\n",
    "    if pokedex_dictionary[key]['Total'] <= lower_quartile:\n",
    "        group_1.append(pokedex_dictionary[key]['Name'])\n",
    "    if lower_quartile < pokedex_dictionary[key]['Total'] <= median:\n",
    "        group_2.append(pokedex_dictionary[key]['Name'])\n",
    "    if median < pokedex_dictionary[key]['Total'] <= upper_quartile:\n",
    "        group_3.append(pokedex_dictionary[key]['Name'])\n",
    "    if upper_quartile < pokedex_dictionary[key]['Total'] <= maximum:\n",
    "        group_4.append(pokedex_dictionary[key]['Name'])"
   ]
  },
  {
   "cell_type": "markdown",
   "metadata": {},
   "source": [
    "Next, I assigned probabilities to encountering a pokemon from each of the four groups. \n",
    "This could vary depending on how unbalanced you want the model to be. "
   ]
  },
  {
   "cell_type": "code",
   "execution_count": 25,
   "metadata": {},
   "outputs": [],
   "source": [
    "probability_group_1 = 0.40\n",
    "probability_group_2 = 0.30\n",
    "probability_group_3 = 0.20\n",
    "probability_group_4 = 0.10\n",
    "\n",
    "def probability_model_1(id):\n",
    "    if pokedex_dictionary[id]['Name'] in group_1:\n",
    "        return probability_group_1/len(group_1)     \n",
    "    if pokedex_dictionary[id]['Name'] in group_2:   \n",
    "        return probability_group_2/len(group_2) \n",
    "    if pokedex_dictionary[id]['Name'] in group_3:\n",
    "        return probability_group_3/len(group_3)\n",
    "    if pokedex_dictionary[id]['Name'] in group_4:\n",
    "        return probability_group_4/len(group_4)"
   ]
  },
  {
   "cell_type": "code",
   "execution_count": 26,
   "metadata": {},
   "outputs": [
    {
     "data": {
      "text/plain": [
       "1.000000000000004"
      ]
     },
     "execution_count": 26,
     "metadata": {},
     "output_type": "execute_result"
    }
   ],
   "source": [
    "#To check the model, I ensured that the sum of all the probabilities was equal to 1\n",
    "sum_of_probabilities = 0\n",
    "for pokemon_id in range(1, 722):\n",
    "    sum_of_probabilities += probability_model_1(pokemon_id)\n",
    "sum_of_probabilities"
   ]
  },
  {
   "cell_type": "code",
   "execution_count": 27,
   "metadata": {},
   "outputs": [
    {
     "data": {
      "text/plain": [
       "0.002185792349726776"
      ]
     },
     "execution_count": 27,
     "metadata": {},
     "output_type": "execute_result"
    }
   ],
   "source": [
    "#Probability of encountering a Pikachu (id =25)\n",
    "probability_model_1(25) "
   ]
  },
  {
   "cell_type": "code",
   "execution_count": null,
   "metadata": {},
   "outputs": [],
   "source": []
  },
  {
   "cell_type": "code",
   "execution_count": null,
   "metadata": {},
   "outputs": [],
   "source": []
  },
  {
   "cell_type": "code",
   "execution_count": null,
   "metadata": {},
   "outputs": [],
   "source": []
  },
  {
   "cell_type": "code",
   "execution_count": null,
   "metadata": {},
   "outputs": [],
   "source": []
  }
 ],
 "metadata": {
  "anaconda-cloud": {},
  "kernelspec": {
   "display_name": "Python 3",
   "language": "python",
   "name": "python3"
  },
  "language_info": {
   "codemirror_mode": {
    "name": "ipython",
    "version": 3
   },
   "file_extension": ".py",
   "mimetype": "text/x-python",
   "name": "python",
   "nbconvert_exporter": "python",
   "pygments_lexer": "ipython3",
   "version": "3.7.1"
  }
 },
 "nbformat": 4,
 "nbformat_minor": 1
}
